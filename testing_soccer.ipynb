{
 "cells": [
  {
   "cell_type": "code",
   "execution_count": 31,
   "metadata": {},
   "outputs": [],
   "source": [
    "import requests\n",
    "import json\n",
    "\n",
    "#Url I need and the identifications\n",
    "headers = {\n",
    "\t\"X-RapidAPI-Key\": \"445088a04bmshf38acde11d7c250p13801fjsn7bb80ece68e1\",\n",
    "\t\"X-RapidAPI-Host\": \"api-football-v1.p.rapidapi.com\"\n",
    "}\n",
    "\n",
    "url_team = \"https://api-football-v1.p.rapidapi.com/v3/teams\"\n",
    "\n",
    "url_players = \"https://api-football-v1.p.rapidapi.com/v3/players/squads\""
   ]
  },
  {
   "cell_type": "code",
   "execution_count": 59,
   "metadata": {},
   "outputs": [
    {
     "name": "stdout",
     "output_type": "stream",
     "text": [
      "Real Madrid Barcelona\n",
      "{'name': 'Real Madrid'}\n"
     ]
    }
   ],
   "source": [
    "#To get the teams \n",
    "querystring_first = {}\n",
    "querystring_second = {}\n",
    "\n",
    "first_team = input(\"First Team: \")\n",
    "second_team = input(\"Second Team: \")\n",
    "competition = input(\"Competition: \")\n",
    "\n",
    "print(first_team, second_team)\n",
    "\n",
    "querystring_first[\"name\"] = first_team\n",
    "#querystring_first = {\"name:\" }\n",
    "querystring_second[\"name\"] = second_team\n",
    "\n",
    "print(querystring_first)\n"
   ]
  },
  {
   "cell_type": "code",
   "execution_count": 24,
   "metadata": {},
   "outputs": [
    {
     "name": "stdout",
     "output_type": "stream",
     "text": [
      "{'get': 'teams', 'parameters': {'name': 'Real Madrid'}, 'errors': [], 'results': 1, 'paging': {'current': 1, 'total': 1}, 'response': [{'team': {'id': 541, 'name': 'Real Madrid', 'code': 'REA', 'country': 'Spain', 'founded': 1902, 'national': False, 'logo': 'https://media.api-sports.io/football/teams/541.png'}, 'venue': {'id': 1456, 'name': 'Estadio Santiago Bernabéu', 'address': 'Avenida de Concha Espina 1, Chamartín', 'city': 'Madrid', 'capacity': 85454, 'surface': 'grass', 'image': 'https://media.api-sports.io/football/venues/1456.png'}}]}\n"
     ]
    }
   ],
   "source": [
    "#Correct to the correct name later\n",
    "first_data = requests.get(url_team, headers=headers, params=querystring_first)\n",
    "secon_data = requests.get(url_team, headers=headers, params=querystring_second)\n",
    "\n",
    "print(first_data.json())"
   ]
  },
  {
   "cell_type": "code",
   "execution_count": 56,
   "metadata": {},
   "outputs": [
    {
     "name": "stdout",
     "output_type": "stream",
     "text": [
      "{\n",
      "    \"get\": \"teams\",\n",
      "    \"parameters\": {\n",
      "        \"name\": \"Real Madrid\"\n",
      "    },\n",
      "    \"errors\": [],\n",
      "    \"results\": 1,\n",
      "    \"paging\": {\n",
      "        \"current\": 1,\n",
      "        \"total\": 1\n",
      "    },\n",
      "    \"response\": [\n",
      "        {\n",
      "            \"team\": {\n",
      "                \"id\": 541,\n",
      "                \"name\": \"Real Madrid\",\n",
      "                \"code\": \"REA\",\n",
      "                \"country\": \"Spain\",\n",
      "                \"founded\": 1902,\n",
      "                \"national\": false,\n",
      "                \"logo\": \"https://media.api-sports.io/football/teams/541.png\"\n",
      "            },\n",
      "            \"venue\": {\n",
      "                \"id\": 1456,\n",
      "                \"name\": \"Estadio Santiago Bernab\\u00e9u\",\n",
      "                \"address\": \"Avenida de Concha Espina 1, Chamart\\u00edn\",\n",
      "                \"city\": \"Madrid\",\n",
      "                \"capacity\": 85454,\n",
      "                \"surface\": \"grass\",\n",
      "                \"image\": \"https://media.api-sports.io/football/venues/1456.png\"\n",
      "            }\n",
      "        }\n",
      "    ]\n",
      "}\n",
      "{\n",
      "    \"get\": \"teams\",\n",
      "    \"parameters\": {\n",
      "        \"name\": \"Real Madrid\"\n",
      "    },\n",
      "    \"errors\": [],\n",
      "    \"results\": 1,\n",
      "    \"paging\": {\n",
      "        \"current\": 1,\n",
      "        \"total\": 1\n",
      "    },\n",
      "    \"response\": [\n",
      "        {\n",
      "            \"team\": {\n",
      "                \"id\": 541,\n",
      "                \"name\": \"Real Madrid\",\n",
      "                \"code\": \"REA\",\n",
      "                \"country\": \"Spain\",\n",
      "                \"founded\": 1902,\n",
      "                \"national\": false,\n",
      "                \"logo\": \"https://media.api-sports.io/football/teams/541.png\"\n",
      "            },\n",
      "            \"venue\": {\n",
      "                \"id\": 1456,\n",
      "                \"name\": \"Estadio Santiago Bernab\\u00e9u\",\n",
      "                \"address\": \"Avenida de Concha Espina 1, Chamart\\u00edn\",\n",
      "                \"city\": \"Madrid\",\n",
      "                \"capacity\": 85454,\n",
      "                \"surface\": \"grass\",\n",
      "                \"image\": \"https://media.api-sports.io/football/venues/1456.png\"\n",
      "            }\n",
      "        }\n",
      "    ]\n",
      "}\n"
     ]
    }
   ],
   "source": [
    "#Convert what I get into a json and save it as a file\n",
    "first_json = first_data.json()\n",
    "second_json = secon_data.json()\n",
    "\n",
    "with open(\"first_team_data.json\", \"w\") as file:\n",
    "    json.dump(first_json, file)\n",
    "    \n",
    "with open(\"second_team_data.json\", \"w\") as file:\n",
    "    json.dump(second_json, file)  \n",
    "    \n",
    "print(json.dumps(first_json, indent=4))\n"
   ]
  },
  {
   "cell_type": "code",
   "execution_count": 61,
   "metadata": {},
   "outputs": [
    {
     "name": "stdout",
     "output_type": "stream",
     "text": [
      "541 529\n"
     ]
    }
   ],
   "source": [
    "#Extract the id from the jsons\n",
    "\n",
    "first_id = first_json['response'][0]['team']['id']\n",
    "second_id = second_json['response'][0]['team']['id']\n",
    "\n",
    "print(first_id, second_id)"
   ]
  },
  {
   "cell_type": "code",
   "execution_count": 62,
   "metadata": {},
   "outputs": [
    {
     "name": "stdout",
     "output_type": "stream",
     "text": [
      "{'team': 541}\n",
      "{'team': 529}\n",
      "<Response [200]>\n"
     ]
    }
   ],
   "source": [
    "#Use the id found to get the list of players for that team\n",
    "querystring_first_team = {}\n",
    "querystring_second_team = {}\n",
    "\n",
    "querystring_first_team['team'] = first_id\n",
    "querystring_second_team['team'] = second_id\n",
    "\n",
    "print(querystring_first_team)\n",
    "print(querystring_second_team)\n",
    "\n",
    "first_team_players = requests.get(url_players, headers=headers, params=querystring_first_team)\n",
    "second_team_players = requests.get(url_players, headers=headers, params=querystring_second_team)\n",
    "\n",
    "print(first_team_players)"
   ]
  },
  {
   "cell_type": "code",
   "execution_count": null,
   "metadata": {},
   "outputs": [],
   "source": [
    "#Convert the players to a JSON and also save to a file\n",
    "first_players_json = first_team_players.json()\n",
    "second_players_json = second_team_players.json()\n",
    "\n",
    "with open(\"first_team_players.json\", \"w\") as file:\n",
    "    json.dump(first_players_json, file)\n",
    "    \n",
    "with open(\"second_team_players.json\", \"w\") as file:\n",
    "    json.dump(second_players_json, file)  \n",
    "\n",
    "print(json.dumps(first_players_json, indent=4))"
   ]
  },
  {
   "cell_type": "code",
   "execution_count": 76,
   "metadata": {},
   "outputs": [
    {
     "name": "stdout",
     "output_type": "stream",
     "text": [
      "[{'id': 730, 'name': 'T. Courtois', 'age': 31, 'number': 1, 'position': 'Goalkeeper', 'photo': 'https://media.api-sports.io/football/players/730.png'}, {'id': 47400, 'name': 'A. Lunin', 'age': 24, 'number': 13, 'position': 'Goalkeeper', 'photo': 'https://media.api-sports.io/football/players/47400.png'}, {'id': 2273, 'name': 'Kepa', 'age': 29, 'number': 25, 'position': 'Goalkeeper', 'photo': 'https://media.api-sports.io/football/players/2273.png'}, {'id': 334575, 'name': 'Diego Piñeiro', 'age': 19, 'number': 26, 'position': 'Goalkeeper', 'photo': 'https://media.api-sports.io/football/players/334575.png'}, {'id': 396475, 'name': 'Fran González', 'age': 18, 'number': 30, 'position': 'Goalkeeper', 'photo': 'https://media.api-sports.io/football/players/396475.png'}, {'id': 206260, 'name': 'Lucas Cañizares', 'age': 21, 'number': 31, 'position': 'Goalkeeper', 'photo': 'https://media.api-sports.io/football/players/206260.png'}, {'id': 733, 'name': 'Dani Carvajal', 'age': 31, 'number': 2, 'position': 'Defender', 'photo': 'https://media.api-sports.io/football/players/733.png'}, {'id': 372, 'name': 'Éder Militão', 'age': 25, 'number': 3, 'position': 'Defender', 'photo': 'https://media.api-sports.io/football/players/372.png'}, {'id': 505, 'name': 'D. Alaba', 'age': 31, 'number': 4, 'position': 'Defender', 'photo': 'https://media.api-sports.io/football/players/505.png'}, {'id': 735, 'name': 'Nacho', 'age': 33, 'number': 6, 'position': 'Defender', 'photo': 'https://media.api-sports.io/football/players/735.png'}, {'id': 736, 'name': 'Fran García', 'age': 24, 'number': 20, 'position': 'Defender', 'photo': 'https://media.api-sports.io/football/players/736.png'}, {'id': 2285, 'name': 'A. Rüdiger', 'age': 30, 'number': 22, 'position': 'Defender', 'photo': 'https://media.api-sports.io/football/players/2285.png'}, {'id': 653, 'name': 'F. Mendy', 'age': 28, 'number': 23, 'position': 'Defender', 'photo': 'https://media.api-sports.io/football/players/653.png'}, {'id': 237174, 'name': 'Álvaro Carrillo', 'age': 21, 'number': 34, 'position': 'Defender', 'photo': 'https://media.api-sports.io/football/players/237174.png'}, {'id': 279792, 'name': 'Vinícius Tobias', 'age': 19, 'number': 36, 'position': 'Defender', 'photo': 'https://media.api-sports.io/football/players/279792.png'}, {'id': 129718, 'name': 'J. Bellingham', 'age': 20, 'number': 5, 'position': 'Midfielder', 'photo': 'https://media.api-sports.io/football/players/129718.png'}, {'id': 752, 'name': 'T. Kroos', 'age': 33, 'number': 8, 'position': 'Midfielder', 'photo': 'https://media.api-sports.io/football/players/752.png'}, {'id': 754, 'name': 'L. Modrić', 'age': 38, 'number': 10, 'position': 'Midfielder', 'photo': 'https://media.api-sports.io/football/players/754.png'}, {'id': 2207, 'name': 'E. Camavinga', 'age': 21, 'number': 12, 'position': 'Midfielder', 'photo': 'https://media.api-sports.io/football/players/2207.png'}, {'id': 756, 'name': 'F. Valverde', 'age': 25, 'number': 15, 'position': 'Midfielder', 'photo': 'https://media.api-sports.io/football/players/756.png'}, {'id': 757, 'name': 'Lucas Vázquez', 'age': 32, 'number': 17, 'position': 'Midfielder', 'photo': 'https://media.api-sports.io/football/players/757.png'}, {'id': 1271, 'name': 'A. Tchouaméni', 'age': 23, 'number': 18, 'position': 'Midfielder', 'photo': 'https://media.api-sports.io/football/players/1271.png'}, {'id': 748, 'name': 'Dani Ceballos', 'age': 27, 'number': 19, 'position': 'Midfielder', 'photo': 'https://media.api-sports.io/football/players/748.png'}, {'id': 744, 'name': 'Brahim Díaz', 'age': 24, 'number': 21, 'position': 'Midfielder', 'photo': 'https://media.api-sports.io/football/players/744.png'}, {'id': 291964, 'name': 'A. Güler', 'age': 18, 'number': 24, 'position': 'Midfielder', 'photo': 'https://media.api-sports.io/football/players/291964.png'}, {'id': 343205, 'name': 'Mario Martín', 'age': 19, 'number': 28, 'position': 'Midfielder', 'photo': 'https://media.api-sports.io/football/players/343205.png'}, {'id': 350037, 'name': 'N. Paz', 'age': 19, 'number': 32, 'position': 'Midfielder', 'photo': 'https://media.api-sports.io/football/players/350037.png'}, {'id': 762, 'name': 'Vinícius Júnior', 'age': 23, 'number': 7, 'position': 'Attacker', 'photo': 'https://media.api-sports.io/football/players/762.png'}, {'id': 10009, 'name': 'Rodrygo', 'age': 22, 'number': 11, 'position': 'Attacker', 'photo': 'https://media.api-sports.io/football/players/10009.png'}, {'id': 18907, 'name': 'Joselu', 'age': 33, 'number': 14, 'position': 'Attacker', 'photo': 'https://media.api-sports.io/football/players/18907.png'}, {'id': 336711, 'name': 'Gonzalo García', 'age': 19, 'number': 33, 'position': 'Attacker', 'photo': 'https://media.api-sports.io/football/players/336711.png'}]\n"
     ]
    }
   ],
   "source": [
    "#Extract all the players from each team\n",
    "first_players_list = first_players_json['response'][0]['players']\n",
    "second_players_list = second_players_json['response'][0]['players']\n",
    "\n",
    "print(first_players_list)"
   ]
  },
  {
   "cell_type": "code",
   "execution_count": 78,
   "metadata": {},
   "outputs": [
    {
     "name": "stdout",
     "output_type": "stream",
     "text": [
      "['T. Courtois', 'A. Lunin', 'Kepa', 'Diego Piñeiro', 'Fran González', 'Lucas Cañizares', 'Dani Carvajal', 'Éder Militão', 'D. Alaba', 'Nacho', 'Fran García', 'A. Rüdiger', 'F. Mendy', 'Álvaro Carrillo', 'Vinícius Tobias', 'J. Bellingham', 'T. Kroos', 'L. Modrić', 'E. Camavinga', 'F. Valverde', 'Lucas Vázquez', 'A. Tchouaméni', 'Dani Ceballos', 'Brahim Díaz', 'A. Güler', 'Mario Martín', 'N. Paz', 'Vinícius Júnior', 'Rodrygo', 'Joselu', 'Gonzalo García']\n",
      "['M. ter Stegen', 'Iñaki Peña', 'Ander Astralaga', 'D. Kochen', 'Á. Yaakobishvili', 'João Cancelo', 'Alejandro Balde', 'R. Araújo', 'Íñigo Martínez', 'A. Christensen', 'Marcos Alonso', 'Sergi Roberto', 'J. Koundé', 'Pau Cubarsí Paredes', 'Héctor Fort', 'M. Faye', 'Gavi', 'Pedri', 'Oriol Romeu', 'F. de Jong', 'İ. Gündoğan', 'Ángel Alarcón', 'Marc Casadó', 'Fermín', 'Aleix Garrido', 'Unai Hernández', 'Pau Prim', 'Ferran Torres', 'R. Lewandowski', 'Raphinha', 'João Félix', 'Vitor Roque', 'Lamine Yamal', 'Pau Victor', 'Marc Guiu']\n"
     ]
    }
   ],
   "source": [
    "first_players_extracted = []\n",
    "second_players_extracted = []\n",
    "for player in first_players_list:\n",
    "    first_players_extracted.append(player['name'])\n",
    "\n",
    "for player in second_players_list:\n",
    "    second_players_extracted.append(player['name'])\n",
    "\n",
    "print(first_players_extracted)\n",
    "print(second_players_extracted)\n",
    "    "
   ]
  },
  {
   "cell_type": "code",
   "execution_count": 81,
   "metadata": {},
   "outputs": [
    {
     "name": "stdout",
     "output_type": "stream",
     "text": [
      "['T.', 'Courtois', 'A.', 'Lunin', 'Kepa', 'Diego', 'Piñeiro', 'Fran', 'González', 'Lucas', 'Cañizares', 'Dani', 'Carvajal', 'Éder', 'Militão', 'D.', 'Alaba', 'Nacho', 'Fran', 'García', 'A.', 'Rüdiger', 'F.', 'Mendy', 'Álvaro', 'Carrillo', 'Vinícius', 'Tobias', 'J.', 'Bellingham', 'T.', 'Kroos', 'L.', 'Modrić', 'E.', 'Camavinga', 'F.', 'Valverde', 'Lucas', 'Vázquez', 'A.', 'Tchouaméni', 'Dani', 'Ceballos', 'Brahim', 'Díaz', 'A.', 'Güler', 'Mario', 'Martín', 'N.', 'Paz', 'Vinícius', 'Júnior', 'Rodrygo', 'Joselu', 'Gonzalo', 'García']\n"
     ]
    }
   ],
   "source": [
    "first_players_filter = []\n",
    "\n",
    "for player in first_players_extracted:\n",
    "    spt = player.split(' ')\n",
    "    for name in spt:\n",
    "        first_players_filter.append(name)\n",
    "        \n",
    "print(first_players_filter)"
   ]
  },
  {
   "cell_type": "code",
   "execution_count": 80,
   "metadata": {},
   "outputs": [],
   "source": [
    "second_players_filter = []\n",
    "\n",
    "for player in second_players_filter:\n",
    "    spt = player.split(' ')\n",
    "    for name in spt:\n",
    "        second_players_filter.append(name)"
   ]
  }
 ],
 "metadata": {
  "kernelspec": {
   "display_name": "base",
   "language": "python",
   "name": "python3"
  },
  "language_info": {
   "codemirror_mode": {
    "name": "ipython",
    "version": 3
   },
   "file_extension": ".py",
   "mimetype": "text/x-python",
   "name": "python",
   "nbconvert_exporter": "python",
   "pygments_lexer": "ipython3",
   "version": "3.11.5"
  }
 },
 "nbformat": 4,
 "nbformat_minor": 2
}
