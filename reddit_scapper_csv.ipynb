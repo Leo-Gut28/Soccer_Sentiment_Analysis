{
 "cells": [
  {
   "cell_type": "code",
   "execution_count": 249,
   "metadata": {},
   "outputs": [],
   "source": [
    "import config\n",
    "import praw\n",
    "import pandas as pd\n",
    "from pprint import pprint\n",
    "import numpy as np\n",
    "import matplotlib.pyplot as plt\n",
    "import seaborn as sns\n",
    "import csv\n",
    "from transformers import AutoTokenizer, AutoModelForSequenceClassification\n",
    "from scipy.special import softmax"
   ]
  },
  {
   "cell_type": "markdown",
   "metadata": {},
   "source": [
    "Adding Comments to CSV"
   ]
  },
  {
   "cell_type": "code",
   "execution_count": 250,
   "metadata": {},
   "outputs": [],
   "source": [
    "def process_comments(comments, csv_writer):\n",
    "    for comment in comments:\n",
    "        if isinstance(comment, praw.models.MoreComments):\n",
    "            # Recursively process more comments\n",
    "            process_comments(comment.comments(), csv_writer)\n",
    "        else:\n",
    "            cleaned_comment = comment_cleaning(comment.body)\n",
    "            csv_writer.writerow([' '.join(cleaned_comment)])"
   ]
  },
  {
   "cell_type": "markdown",
   "metadata": {},
   "source": [
    "Get Rid of Punctuation and Stopwords"
   ]
  },
  {
   "cell_type": "code",
   "execution_count": 251,
   "metadata": {},
   "outputs": [],
   "source": [
    "def comment_cleaning(comment):\n",
    "    punc_removed = [char for char in comment if char not in string.punctuation]\n",
    "    punc_removed_join = ''.join(punc_removed)\n",
    "    punc_removed_join_clean = [word for word in punc_removed_join.split() if word.lower() not in stopwords.words('english')]\n",
    "    \n",
    "    return punc_removed_join_clean"
   ]
  },
  {
   "cell_type": "markdown",
   "metadata": {},
   "source": [
    "Doing the sentiment analysis on each comment"
   ]
  },
  {
   "cell_type": "code",
   "execution_count": 252,
   "metadata": {},
   "outputs": [],
   "source": [
    "# Function to analyze sentiment\n",
    "def analyze_sentiment(comment, model, tokenizer):\n",
    "    encoded_comment = tokenizer(comment, return_tensors='pt', max_length=512, truncation=True)\n",
    "    output = model(**encoded_comment)\n",
    "    scores = output[0][0].detach().numpy()\n",
    "    scores = softmax(scores)\n",
    "\n",
    "    scores_labels = {}\n",
    "    \n",
    "    for i in range(len(scores)):\n",
    "        l = labels[i]\n",
    "        s = scores[i]\n",
    "        scores_labels[l] = s\n",
    "\n",
    "    max_label = max(scores_labels, key=scores_labels.get)\n",
    "    \n",
    "    return max_label\n",
    "\n"
   ]
  },
  {
   "cell_type": "markdown",
   "metadata": {},
   "source": [
    "RedditAPI Authentication"
   ]
  },
  {
   "cell_type": "code",
   "execution_count": 253,
   "metadata": {},
   "outputs": [],
   "source": [
    "# First Code Snippet\n",
    "user_agent = 'Testing PRAW and Reddit API'\n",
    "reddit = praw.Reddit(client_id=config.ID,\n",
    "                     client_secret=config.SECRET,\n",
    "                     user_agent=user_agent)"
   ]
  },
  {
   "cell_type": "markdown",
   "metadata": {},
   "source": [
    "SocceerAPI Authentication and URLs"
   ]
  },
  {
   "cell_type": "code",
   "execution_count": 254,
   "metadata": {},
   "outputs": [],
   "source": [
    "import requests\n",
    "import json\n",
    "\n",
    "headers = {\n",
    "\t\"X-RapidAPI-Key\": \"445088a04bmshf38acde11d7c250p13801fjsn7bb80ece68e1\",\n",
    "\t\"X-RapidAPI-Host\": \"api-football-v1.p.rapidapi.com\"\n",
    "}\n",
    "\n",
    "url_team = \"https://api-football-v1.p.rapidapi.com/v3/teams\"\n",
    "url_players = \"https://api-football-v1.p.rapidapi.com/v3/players/squads\""
   ]
  },
  {
   "cell_type": "markdown",
   "metadata": {},
   "source": [
    "Getting Input teams and Competition"
   ]
  },
  {
   "cell_type": "code",
   "execution_count": 255,
   "metadata": {},
   "outputs": [
    {
     "name": "stdout",
     "output_type": "stream",
     "text": [
      "Real Madrid Barcelona\n",
      "{'name': 'Real Madrid'}\n"
     ]
    }
   ],
   "source": [
    "querystring_first = {}\n",
    "querystring_second = {}\n",
    "\n",
    "first_team = input(\"First Team: \")\n",
    "second_team = input(\"Second Team: \")\n",
    "competition = input(\"Competition: \")\n",
    "\n",
    "print(first_team, second_team)\n",
    "\n",
    "querystring_first[\"name\"] = first_team\n",
    "querystring_second[\"name\"] = second_team\n",
    "\n",
    "print(querystring_first)\n"
   ]
  },
  {
   "cell_type": "markdown",
   "metadata": {},
   "source": [
    "Getting Requests from Soccer API"
   ]
  },
  {
   "cell_type": "code",
   "execution_count": 256,
   "metadata": {},
   "outputs": [
    {
     "name": "stdout",
     "output_type": "stream",
     "text": [
      "{'get': 'teams', 'parameters': {'name': 'Real Madrid'}, 'errors': [], 'results': 1, 'paging': {'current': 1, 'total': 1}, 'response': [{'team': {'id': 541, 'name': 'Real Madrid', 'code': 'REA', 'country': 'Spain', 'founded': 1902, 'national': False, 'logo': 'https://media.api-sports.io/football/teams/541.png'}, 'venue': {'id': 1456, 'name': 'Estadio Santiago Bernabéu', 'address': 'Avenida de Concha Espina 1, Chamartín', 'city': 'Madrid', 'capacity': 85454, 'surface': 'grass', 'image': 'https://media.api-sports.io/football/venues/1456.png'}}]}\n"
     ]
    }
   ],
   "source": [
    "#Correct to the correct name later\n",
    "first_data = requests.get(url_team, headers=headers, params=querystring_first)\n",
    "secon_data = requests.get(url_team, headers=headers, params=querystring_second)\n",
    "\n",
    "print(first_data.json())"
   ]
  },
  {
   "cell_type": "markdown",
   "metadata": {},
   "source": [
    "Converting request into JSON file"
   ]
  },
  {
   "cell_type": "code",
   "execution_count": 257,
   "metadata": {},
   "outputs": [],
   "source": [
    "#Convert what I get into a json and save it as a file\n",
    "import os\n",
    "\n",
    "first_json = first_data.json()\n",
    "second_json = secon_data.json()\n",
    "\n",
    "# Specify relative file paths to the 'data' folder\n",
    "folder_path = 'data'\n",
    "first_json_file_path = os.path.join(folder_path, 'first_team_data.json')\n",
    "second_json_file_path = os.path.join(folder_path, 'second_team_data.json')\n",
    "\n",
    "# Create the 'data' folder if it doesn't exist\n",
    "os.makedirs(folder_path, exist_ok=True)\n",
    "\n",
    "# Save the first JSON file\n",
    "with open(first_json_file_path, 'w') as file:\n",
    "    json.dump(first_json, file, indent=4)\n",
    "\n",
    "# Save the second JSON file\n",
    "with open(second_json_file_path, 'w') as file:\n",
    "    json.dump(second_json, file, indent=4)\n"
   ]
  },
  {
   "cell_type": "markdown",
   "metadata": {},
   "source": [
    "Getting Team IDs"
   ]
  },
  {
   "cell_type": "code",
   "execution_count": 258,
   "metadata": {},
   "outputs": [
    {
     "name": "stdout",
     "output_type": "stream",
     "text": [
      "541 529\n"
     ]
    }
   ],
   "source": [
    "#Extract the id from the jsons\n",
    "\n",
    "first_id = first_json['response'][0]['team']['id']\n",
    "second_id = second_json['response'][0]['team']['id']\n",
    "\n",
    "print(first_id, second_id)"
   ]
  },
  {
   "cell_type": "markdown",
   "metadata": {},
   "source": [
    "Getting Player List Information (all attributes)"
   ]
  },
  {
   "cell_type": "code",
   "execution_count": 259,
   "metadata": {},
   "outputs": [
    {
     "name": "stdout",
     "output_type": "stream",
     "text": [
      "{'team': 541}\n",
      "{'team': 529}\n",
      "<Response [200]>\n"
     ]
    }
   ],
   "source": [
    "#Use the id found to get the list of players for that team\n",
    "querystring_first_team = {}\n",
    "querystring_second_team = {}\n",
    "\n",
    "querystring_first_team['team'] = first_id\n",
    "querystring_second_team['team'] = second_id\n",
    "\n",
    "print(querystring_first_team)\n",
    "print(querystring_second_team)\n",
    "\n",
    "first_team_players = requests.get(url_players, headers=headers, params=querystring_first_team)\n",
    "second_team_players = requests.get(url_players, headers=headers, params=querystring_second_team)\n",
    "\n",
    "print(first_team_players)"
   ]
  },
  {
   "cell_type": "markdown",
   "metadata": {},
   "source": [
    "Convert these into JSON files"
   ]
  },
  {
   "cell_type": "code",
   "execution_count": 260,
   "metadata": {},
   "outputs": [
    {
     "name": "stdout",
     "output_type": "stream",
     "text": [
      "{\n",
      "    \"get\": \"players/squads\",\n",
      "    \"parameters\": {\n",
      "        \"team\": \"541\"\n",
      "    },\n",
      "    \"errors\": [],\n",
      "    \"results\": 1,\n",
      "    \"paging\": {\n",
      "        \"current\": 1,\n",
      "        \"total\": 1\n",
      "    },\n",
      "    \"response\": [\n",
      "        {\n",
      "            \"team\": {\n",
      "                \"id\": 541,\n",
      "                \"name\": \"Real Madrid\",\n",
      "                \"logo\": \"https://media.api-sports.io/football/teams/541.png\"\n",
      "            },\n",
      "            \"players\": [\n",
      "                {\n",
      "                    \"id\": 730,\n",
      "                    \"name\": \"T. Courtois\",\n",
      "                    \"age\": 31,\n",
      "                    \"number\": 1,\n",
      "                    \"position\": \"Goalkeeper\",\n",
      "                    \"photo\": \"https://media.api-sports.io/football/players/730.png\"\n",
      "                },\n",
      "                {\n",
      "                    \"id\": 47400,\n",
      "                    \"name\": \"A. Lunin\",\n",
      "                    \"age\": 24,\n",
      "                    \"number\": 13,\n",
      "                    \"position\": \"Goalkeeper\",\n",
      "                    \"photo\": \"https://media.api-sports.io/football/players/47400.png\"\n",
      "                },\n",
      "                {\n",
      "                    \"id\": 2273,\n",
      "                    \"name\": \"Kepa\",\n",
      "                    \"age\": 29,\n",
      "                    \"number\": 25,\n",
      "                    \"position\": \"Goalkeeper\",\n",
      "                    \"photo\": \"https://media.api-sports.io/football/players/2273.png\"\n",
      "                },\n",
      "                {\n",
      "                    \"id\": 334575,\n",
      "                    \"name\": \"Diego Pi\\u00f1eiro\",\n",
      "                    \"age\": 19,\n",
      "                    \"number\": 26,\n",
      "                    \"position\": \"Goalkeeper\",\n",
      "                    \"photo\": \"https://media.api-sports.io/football/players/334575.png\"\n",
      "                },\n",
      "                {\n",
      "                    \"id\": 396475,\n",
      "                    \"name\": \"Fran Gonz\\u00e1lez\",\n",
      "                    \"age\": 18,\n",
      "                    \"number\": 30,\n",
      "                    \"position\": \"Goalkeeper\",\n",
      "                    \"photo\": \"https://media.api-sports.io/football/players/396475.png\"\n",
      "                },\n",
      "                {\n",
      "                    \"id\": 206260,\n",
      "                    \"name\": \"Lucas Ca\\u00f1izares\",\n",
      "                    \"age\": 21,\n",
      "                    \"number\": 31,\n",
      "                    \"position\": \"Goalkeeper\",\n",
      "                    \"photo\": \"https://media.api-sports.io/football/players/206260.png\"\n",
      "                },\n",
      "                {\n",
      "                    \"id\": 733,\n",
      "                    \"name\": \"Dani Carvajal\",\n",
      "                    \"age\": 31,\n",
      "                    \"number\": 2,\n",
      "                    \"position\": \"Defender\",\n",
      "                    \"photo\": \"https://media.api-sports.io/football/players/733.png\"\n",
      "                },\n",
      "                {\n",
      "                    \"id\": 372,\n",
      "                    \"name\": \"\\u00c9der Milit\\u00e3o\",\n",
      "                    \"age\": 25,\n",
      "                    \"number\": 3,\n",
      "                    \"position\": \"Defender\",\n",
      "                    \"photo\": \"https://media.api-sports.io/football/players/372.png\"\n",
      "                },\n",
      "                {\n",
      "                    \"id\": 505,\n",
      "                    \"name\": \"D. Alaba\",\n",
      "                    \"age\": 31,\n",
      "                    \"number\": 4,\n",
      "                    \"position\": \"Defender\",\n",
      "                    \"photo\": \"https://media.api-sports.io/football/players/505.png\"\n",
      "                },\n",
      "                {\n",
      "                    \"id\": 735,\n",
      "                    \"name\": \"Nacho\",\n",
      "                    \"age\": 33,\n",
      "                    \"number\": 6,\n",
      "                    \"position\": \"Defender\",\n",
      "                    \"photo\": \"https://media.api-sports.io/football/players/735.png\"\n",
      "                },\n",
      "                {\n",
      "                    \"id\": 736,\n",
      "                    \"name\": \"Fran Garc\\u00eda\",\n",
      "                    \"age\": 24,\n",
      "                    \"number\": 20,\n",
      "                    \"position\": \"Defender\",\n",
      "                    \"photo\": \"https://media.api-sports.io/football/players/736.png\"\n",
      "                },\n",
      "                {\n",
      "                    \"id\": 2285,\n",
      "                    \"name\": \"A. R\\u00fcdiger\",\n",
      "                    \"age\": 30,\n",
      "                    \"number\": 22,\n",
      "                    \"position\": \"Defender\",\n",
      "                    \"photo\": \"https://media.api-sports.io/football/players/2285.png\"\n",
      "                },\n",
      "                {\n",
      "                    \"id\": 653,\n",
      "                    \"name\": \"F. Mendy\",\n",
      "                    \"age\": 28,\n",
      "                    \"number\": 23,\n",
      "                    \"position\": \"Defender\",\n",
      "                    \"photo\": \"https://media.api-sports.io/football/players/653.png\"\n",
      "                },\n",
      "                {\n",
      "                    \"id\": 237174,\n",
      "                    \"name\": \"A\\u0301lvaro Carrillo\",\n",
      "                    \"age\": 21,\n",
      "                    \"number\": 34,\n",
      "                    \"position\": \"Defender\",\n",
      "                    \"photo\": \"https://media.api-sports.io/football/players/237174.png\"\n",
      "                },\n",
      "                {\n",
      "                    \"id\": 279792,\n",
      "                    \"name\": \"Vin\\u00edcius Tobias\",\n",
      "                    \"age\": 19,\n",
      "                    \"number\": 36,\n",
      "                    \"position\": \"Defender\",\n",
      "                    \"photo\": \"https://media.api-sports.io/football/players/279792.png\"\n",
      "                },\n",
      "                {\n",
      "                    \"id\": 129718,\n",
      "                    \"name\": \"J. Bellingham\",\n",
      "                    \"age\": 20,\n",
      "                    \"number\": 5,\n",
      "                    \"position\": \"Midfielder\",\n",
      "                    \"photo\": \"https://media.api-sports.io/football/players/129718.png\"\n",
      "                },\n",
      "                {\n",
      "                    \"id\": 752,\n",
      "                    \"name\": \"T. Kroos\",\n",
      "                    \"age\": 33,\n",
      "                    \"number\": 8,\n",
      "                    \"position\": \"Midfielder\",\n",
      "                    \"photo\": \"https://media.api-sports.io/football/players/752.png\"\n",
      "                },\n",
      "                {\n",
      "                    \"id\": 754,\n",
      "                    \"name\": \"L. Modri\\u0107\",\n",
      "                    \"age\": 38,\n",
      "                    \"number\": 10,\n",
      "                    \"position\": \"Midfielder\",\n",
      "                    \"photo\": \"https://media.api-sports.io/football/players/754.png\"\n",
      "                },\n",
      "                {\n",
      "                    \"id\": 2207,\n",
      "                    \"name\": \"E. Camavinga\",\n",
      "                    \"age\": 21,\n",
      "                    \"number\": 12,\n",
      "                    \"position\": \"Midfielder\",\n",
      "                    \"photo\": \"https://media.api-sports.io/football/players/2207.png\"\n",
      "                },\n",
      "                {\n",
      "                    \"id\": 756,\n",
      "                    \"name\": \"F. Valverde\",\n",
      "                    \"age\": 25,\n",
      "                    \"number\": 15,\n",
      "                    \"position\": \"Midfielder\",\n",
      "                    \"photo\": \"https://media.api-sports.io/football/players/756.png\"\n",
      "                },\n",
      "                {\n",
      "                    \"id\": 757,\n",
      "                    \"name\": \"Lucas V\\u00e1zquez\",\n",
      "                    \"age\": 32,\n",
      "                    \"number\": 17,\n",
      "                    \"position\": \"Midfielder\",\n",
      "                    \"photo\": \"https://media.api-sports.io/football/players/757.png\"\n",
      "                },\n",
      "                {\n",
      "                    \"id\": 1271,\n",
      "                    \"name\": \"A. Tchouam\\u00e9ni\",\n",
      "                    \"age\": 23,\n",
      "                    \"number\": 18,\n",
      "                    \"position\": \"Midfielder\",\n",
      "                    \"photo\": \"https://media.api-sports.io/football/players/1271.png\"\n",
      "                },\n",
      "                {\n",
      "                    \"id\": 748,\n",
      "                    \"name\": \"Dani Ceballos\",\n",
      "                    \"age\": 27,\n",
      "                    \"number\": 19,\n",
      "                    \"position\": \"Midfielder\",\n",
      "                    \"photo\": \"https://media.api-sports.io/football/players/748.png\"\n",
      "                },\n",
      "                {\n",
      "                    \"id\": 744,\n",
      "                    \"name\": \"Brahim D\\u00edaz\",\n",
      "                    \"age\": 24,\n",
      "                    \"number\": 21,\n",
      "                    \"position\": \"Midfielder\",\n",
      "                    \"photo\": \"https://media.api-sports.io/football/players/744.png\"\n",
      "                },\n",
      "                {\n",
      "                    \"id\": 291964,\n",
      "                    \"name\": \"A. G\\u00fcler\",\n",
      "                    \"age\": 18,\n",
      "                    \"number\": 24,\n",
      "                    \"position\": \"Midfielder\",\n",
      "                    \"photo\": \"https://media.api-sports.io/football/players/291964.png\"\n",
      "                },\n",
      "                {\n",
      "                    \"id\": 343205,\n",
      "                    \"name\": \"Mario Mart\\u00edn\",\n",
      "                    \"age\": 19,\n",
      "                    \"number\": 28,\n",
      "                    \"position\": \"Midfielder\",\n",
      "                    \"photo\": \"https://media.api-sports.io/football/players/343205.png\"\n",
      "                },\n",
      "                {\n",
      "                    \"id\": 350037,\n",
      "                    \"name\": \"N. Paz\",\n",
      "                    \"age\": 19,\n",
      "                    \"number\": 32,\n",
      "                    \"position\": \"Midfielder\",\n",
      "                    \"photo\": \"https://media.api-sports.io/football/players/350037.png\"\n",
      "                },\n",
      "                {\n",
      "                    \"id\": 762,\n",
      "                    \"name\": \"Vin\\u00edcius J\\u00fanior\",\n",
      "                    \"age\": 23,\n",
      "                    \"number\": 7,\n",
      "                    \"position\": \"Attacker\",\n",
      "                    \"photo\": \"https://media.api-sports.io/football/players/762.png\"\n",
      "                },\n",
      "                {\n",
      "                    \"id\": 10009,\n",
      "                    \"name\": \"Rodrygo\",\n",
      "                    \"age\": 22,\n",
      "                    \"number\": 11,\n",
      "                    \"position\": \"Attacker\",\n",
      "                    \"photo\": \"https://media.api-sports.io/football/players/10009.png\"\n",
      "                },\n",
      "                {\n",
      "                    \"id\": 18907,\n",
      "                    \"name\": \"Joselu\",\n",
      "                    \"age\": 33,\n",
      "                    \"number\": 14,\n",
      "                    \"position\": \"Attacker\",\n",
      "                    \"photo\": \"https://media.api-sports.io/football/players/18907.png\"\n",
      "                },\n",
      "                {\n",
      "                    \"id\": 336711,\n",
      "                    \"name\": \"Gonzalo Garc\\u00eda\",\n",
      "                    \"age\": 19,\n",
      "                    \"number\": 33,\n",
      "                    \"position\": \"Attacker\",\n",
      "                    \"photo\": \"https://media.api-sports.io/football/players/336711.png\"\n",
      "                }\n",
      "            ]\n",
      "        }\n",
      "    ]\n",
      "}\n"
     ]
    }
   ],
   "source": [
    "#Convert the players to a JSON and also save to a file\n",
    "first_players_json = first_team_players.json()\n",
    "second_players_json = second_team_players.json()\n",
    "\n",
    "\n",
    "folder_path = 'data'\n",
    "first_players_json_file_path = os.path.join(folder_path, 'first_team_players.json')\n",
    "second_players_json_file_path = os.path.join(folder_path, 'second_team_players.json')\n",
    "\n",
    "#COULD MAKE A FUNCTION HERE\n",
    "with open(first_players_json_file_path, 'w') as file:\n",
    "    json.dump(first_players_json, file, indent=4)\n",
    "\n",
    "# Save the second JSON file\n",
    "with open(second_players_json_file_path, 'w') as file:\n",
    "    json.dump(second_players_json, file, indent=4)\n",
    "\n",
    "print(json.dumps(first_players_json, indent=4))"
   ]
  },
  {
   "cell_type": "markdown",
   "metadata": {},
   "source": [
    "Get Only players and Extract into list"
   ]
  },
  {
   "cell_type": "code",
   "execution_count": 261,
   "metadata": {},
   "outputs": [
    {
     "name": "stdout",
     "output_type": "stream",
     "text": [
      "[{'id': 730, 'name': 'T. Courtois', 'age': 31, 'number': 1, 'position': 'Goalkeeper', 'photo': 'https://media.api-sports.io/football/players/730.png'}, {'id': 47400, 'name': 'A. Lunin', 'age': 24, 'number': 13, 'position': 'Goalkeeper', 'photo': 'https://media.api-sports.io/football/players/47400.png'}, {'id': 2273, 'name': 'Kepa', 'age': 29, 'number': 25, 'position': 'Goalkeeper', 'photo': 'https://media.api-sports.io/football/players/2273.png'}, {'id': 334575, 'name': 'Diego Piñeiro', 'age': 19, 'number': 26, 'position': 'Goalkeeper', 'photo': 'https://media.api-sports.io/football/players/334575.png'}, {'id': 396475, 'name': 'Fran González', 'age': 18, 'number': 30, 'position': 'Goalkeeper', 'photo': 'https://media.api-sports.io/football/players/396475.png'}, {'id': 206260, 'name': 'Lucas Cañizares', 'age': 21, 'number': 31, 'position': 'Goalkeeper', 'photo': 'https://media.api-sports.io/football/players/206260.png'}, {'id': 733, 'name': 'Dani Carvajal', 'age': 31, 'number': 2, 'position': 'Defender', 'photo': 'https://media.api-sports.io/football/players/733.png'}, {'id': 372, 'name': 'Éder Militão', 'age': 25, 'number': 3, 'position': 'Defender', 'photo': 'https://media.api-sports.io/football/players/372.png'}, {'id': 505, 'name': 'D. Alaba', 'age': 31, 'number': 4, 'position': 'Defender', 'photo': 'https://media.api-sports.io/football/players/505.png'}, {'id': 735, 'name': 'Nacho', 'age': 33, 'number': 6, 'position': 'Defender', 'photo': 'https://media.api-sports.io/football/players/735.png'}, {'id': 736, 'name': 'Fran García', 'age': 24, 'number': 20, 'position': 'Defender', 'photo': 'https://media.api-sports.io/football/players/736.png'}, {'id': 2285, 'name': 'A. Rüdiger', 'age': 30, 'number': 22, 'position': 'Defender', 'photo': 'https://media.api-sports.io/football/players/2285.png'}, {'id': 653, 'name': 'F. Mendy', 'age': 28, 'number': 23, 'position': 'Defender', 'photo': 'https://media.api-sports.io/football/players/653.png'}, {'id': 237174, 'name': 'Álvaro Carrillo', 'age': 21, 'number': 34, 'position': 'Defender', 'photo': 'https://media.api-sports.io/football/players/237174.png'}, {'id': 279792, 'name': 'Vinícius Tobias', 'age': 19, 'number': 36, 'position': 'Defender', 'photo': 'https://media.api-sports.io/football/players/279792.png'}, {'id': 129718, 'name': 'J. Bellingham', 'age': 20, 'number': 5, 'position': 'Midfielder', 'photo': 'https://media.api-sports.io/football/players/129718.png'}, {'id': 752, 'name': 'T. Kroos', 'age': 33, 'number': 8, 'position': 'Midfielder', 'photo': 'https://media.api-sports.io/football/players/752.png'}, {'id': 754, 'name': 'L. Modrić', 'age': 38, 'number': 10, 'position': 'Midfielder', 'photo': 'https://media.api-sports.io/football/players/754.png'}, {'id': 2207, 'name': 'E. Camavinga', 'age': 21, 'number': 12, 'position': 'Midfielder', 'photo': 'https://media.api-sports.io/football/players/2207.png'}, {'id': 756, 'name': 'F. Valverde', 'age': 25, 'number': 15, 'position': 'Midfielder', 'photo': 'https://media.api-sports.io/football/players/756.png'}, {'id': 757, 'name': 'Lucas Vázquez', 'age': 32, 'number': 17, 'position': 'Midfielder', 'photo': 'https://media.api-sports.io/football/players/757.png'}, {'id': 1271, 'name': 'A. Tchouaméni', 'age': 23, 'number': 18, 'position': 'Midfielder', 'photo': 'https://media.api-sports.io/football/players/1271.png'}, {'id': 748, 'name': 'Dani Ceballos', 'age': 27, 'number': 19, 'position': 'Midfielder', 'photo': 'https://media.api-sports.io/football/players/748.png'}, {'id': 744, 'name': 'Brahim Díaz', 'age': 24, 'number': 21, 'position': 'Midfielder', 'photo': 'https://media.api-sports.io/football/players/744.png'}, {'id': 291964, 'name': 'A. Güler', 'age': 18, 'number': 24, 'position': 'Midfielder', 'photo': 'https://media.api-sports.io/football/players/291964.png'}, {'id': 343205, 'name': 'Mario Martín', 'age': 19, 'number': 28, 'position': 'Midfielder', 'photo': 'https://media.api-sports.io/football/players/343205.png'}, {'id': 350037, 'name': 'N. Paz', 'age': 19, 'number': 32, 'position': 'Midfielder', 'photo': 'https://media.api-sports.io/football/players/350037.png'}, {'id': 762, 'name': 'Vinícius Júnior', 'age': 23, 'number': 7, 'position': 'Attacker', 'photo': 'https://media.api-sports.io/football/players/762.png'}, {'id': 10009, 'name': 'Rodrygo', 'age': 22, 'number': 11, 'position': 'Attacker', 'photo': 'https://media.api-sports.io/football/players/10009.png'}, {'id': 18907, 'name': 'Joselu', 'age': 33, 'number': 14, 'position': 'Attacker', 'photo': 'https://media.api-sports.io/football/players/18907.png'}, {'id': 336711, 'name': 'Gonzalo García', 'age': 19, 'number': 33, 'position': 'Attacker', 'photo': 'https://media.api-sports.io/football/players/336711.png'}]\n"
     ]
    }
   ],
   "source": [
    "#Extract all the players from each team\n",
    "first_players_list = first_players_json['response'][0]['players']\n",
    "second_players_list = second_players_json['response'][0]['players']\n",
    "\n",
    "print(first_players_list)"
   ]
  },
  {
   "cell_type": "code",
   "execution_count": 262,
   "metadata": {},
   "outputs": [
    {
     "name": "stdout",
     "output_type": "stream",
     "text": [
      "['T. Courtois', 'A. Lunin', 'Kepa', 'Diego Piñeiro', 'Fran González', 'Lucas Cañizares', 'Dani Carvajal', 'Éder Militão', 'D. Alaba', 'Nacho', 'Fran García', 'A. Rüdiger', 'F. Mendy', 'Álvaro Carrillo', 'Vinícius Tobias', 'J. Bellingham', 'T. Kroos', 'L. Modrić', 'E. Camavinga', 'F. Valverde', 'Lucas Vázquez', 'A. Tchouaméni', 'Dani Ceballos', 'Brahim Díaz', 'A. Güler', 'Mario Martín', 'N. Paz', 'Vinícius Júnior', 'Rodrygo', 'Joselu', 'Gonzalo García']\n",
      "['M. ter Stegen', 'Iñaki Peña', 'Ander Astralaga', 'D. Kochen', 'Á. Yaakobishvili', 'João Cancelo', 'Alejandro Balde', 'R. Araújo', 'Íñigo Martínez', 'A. Christensen', 'Marcos Alonso', 'Sergi Roberto', 'J. Koundé', 'Pau Cubarsí Paredes', 'Héctor Fort', 'M. Faye', 'Gavi', 'Pedri', 'Oriol Romeu', 'F. de Jong', 'İ. Gündoğan', 'Ángel Alarcón', 'Marc Casadó', 'Fermín', 'Aleix Garrido', 'Unai Hernández', 'Pau Prim', 'Ferran Torres', 'R. Lewandowski', 'Raphinha', 'João Félix', 'Vitor Roque', 'Lamine Yamal', 'Pau Victor', 'Marc Guiu']\n"
     ]
    }
   ],
   "source": [
    "#COULD MAKE A FUNCTION HERE \n",
    "\n",
    "first_players_extracted = []\n",
    "second_players_extracted = []\n",
    "for player in first_players_list:\n",
    "    first_players_extracted.append(player['name'])\n",
    "\n",
    "for player in second_players_list:\n",
    "    second_players_extracted.append(player['name'])\n",
    "\n",
    "print(first_players_extracted)\n",
    "print(second_players_extracted)"
   ]
  },
  {
   "cell_type": "markdown",
   "metadata": {},
   "source": [
    "Filtering List of Players (May not have to do this)"
   ]
  },
  {
   "cell_type": "code",
   "execution_count": 263,
   "metadata": {},
   "outputs": [
    {
     "name": "stdout",
     "output_type": "stream",
     "text": [
      "['T.', 'Courtois', 'A.', 'Lunin', 'Kepa', 'Diego', 'Piñeiro', 'Fran', 'González', 'Lucas', 'Cañizares', 'Dani', 'Carvajal', 'Éder', 'Militão', 'D.', 'Alaba', 'Nacho', 'Fran', 'García', 'A.', 'Rüdiger', 'F.', 'Mendy', 'Álvaro', 'Carrillo', 'Vinícius', 'Tobias', 'J.', 'Bellingham', 'T.', 'Kroos', 'L.', 'Modrić', 'E.', 'Camavinga', 'F.', 'Valverde', 'Lucas', 'Vázquez', 'A.', 'Tchouaméni', 'Dani', 'Ceballos', 'Brahim', 'Díaz', 'A.', 'Güler', 'Mario', 'Martín', 'N.', 'Paz', 'Vinícius', 'Júnior', 'Rodrygo', 'Joselu', 'Gonzalo', 'García']\n",
      "['M.', 'ter', 'Stegen', 'Iñaki', 'Peña', 'Ander', 'Astralaga', 'D.', 'Kochen', 'Á.', 'Yaakobishvili', 'João', 'Cancelo', 'Alejandro', 'Balde', 'R.', 'Araújo', 'Íñigo', 'Martínez', 'A.', 'Christensen', 'Marcos', 'Alonso', 'Sergi', 'Roberto', 'J.', 'Koundé', 'Pau', 'Cubarsí', 'Paredes', 'Héctor', 'Fort', 'M.', 'Faye', 'Gavi', 'Pedri', 'Oriol', 'Romeu', 'F.', 'de', 'Jong', 'İ.', 'Gündoğan', 'Ángel', 'Alarcón', 'Marc', 'Casadó', 'Fermín', 'Aleix', 'Garrido', 'Unai', 'Hernández', 'Pau', 'Prim', 'Ferran', 'Torres', 'R.', 'Lewandowski', 'Raphinha', 'João', 'Félix', 'Vitor', 'Roque', 'Lamine', 'Yamal', 'Pau', 'Victor', 'Marc', 'Guiu']\n"
     ]
    }
   ],
   "source": [
    "#COULD MAKE A FUCNTION HERE\n",
    "\n",
    "first_players_filter = []\n",
    "second_players_filter = []\n",
    "\n",
    "for player in first_players_extracted:\n",
    "    spt = player.split(' ')\n",
    "    for name in spt:\n",
    "        first_players_filter.append(name)\n",
    "\n",
    "for player in second_players_extracted:\n",
    "    spt = player.split(' ')\n",
    "    for name in spt:\n",
    "        second_players_filter.append(name)\n",
    "        \n",
    "print(first_players_filter)\n",
    "print(second_players_filter)\n",
    "    "
   ]
  },
  {
   "cell_type": "markdown",
   "metadata": {},
   "source": [
    "Getting the Reddit Post"
   ]
  },
  {
   "cell_type": "code",
   "execution_count": 264,
   "metadata": {},
   "outputs": [],
   "source": [
    "# Specify the subreddit and keywords\n",
    "subreddit_name = 'soccer'\n",
    "#keywords = ['Real Madrid', 'Barcelona', 'Spanish Supercopa']\n",
    "keywords = [first_team, second_team, competition]\n",
    "\n",
    "# Search for posts containing the specified keywords in the title\n",
    "search_query = ' '.join(keywords)\n",
    "subreddit = reddit.subreddit(subreddit_name)\n",
    "search_results = subreddit.search(search_query, sort='relevance', limit=1)"
   ]
  },
  {
   "cell_type": "markdown",
   "metadata": {},
   "source": [
    "Saving Comments to a CSV"
   ]
  },
  {
   "cell_type": "code",
   "execution_count": 265,
   "metadata": {},
   "outputs": [
    {
     "name": "stdout",
     "output_type": "stream",
     "text": [
      "Found post: Post Match Thread: Real Madrid 4-1 Barcelona | Spanish Supercopa (ID: 196pxbn)\n",
      "Comments saved to data/comments_data.csv\n"
     ]
    }
   ],
   "source": [
    "csv_file_path = 'data/comments_data.csv'\n",
    "with open(csv_file_path, 'w', newline='', encoding='utf-8') as csv_file:\n",
    "    csv_writer = csv.writer(csv_file)\n",
    "    csv_writer.writerow(['Comment Body'])\n",
    "\n",
    "    for post in search_results:\n",
    "        post_id = post.id\n",
    "        print(f\"Found post: {post.title} (ID: {post_id})\")\n",
    "\n",
    "        # Extract comments and write to CSV\n",
    "        submission = reddit.submission(id=post_id)\n",
    "        comments = submission.comments.list()\n",
    "        process_comments(comments, csv_writer)\n",
    "\n",
    "\n",
    "\n",
    "    print(f\"Comments saved to {csv_file_path}\")"
   ]
  },
  {
   "cell_type": "markdown",
   "metadata": {},
   "source": [
    "Getting Punctuation and Stopwords libraries"
   ]
  },
  {
   "cell_type": "code",
   "execution_count": 266,
   "metadata": {},
   "outputs": [
    {
     "name": "stderr",
     "output_type": "stream",
     "text": [
      "[nltk_data] Downloading package stopwords to /Users/leo/nltk_data...\n",
      "[nltk_data]   Package stopwords is already up-to-date!\n"
     ]
    }
   ],
   "source": [
    "import string\n",
    "import nltk\n",
    "\n",
    "#List of stopwods\n",
    "nltk.download('stopwords')\n",
    "from nltk.corpus import stopwords"
   ]
  },
  {
   "cell_type": "markdown",
   "metadata": {},
   "source": [
    "Reading the CSV"
   ]
  },
  {
   "cell_type": "code",
   "execution_count": 267,
   "metadata": {},
   "outputs": [
    {
     "name": "stdout",
     "output_type": "stream",
     "text": [
      "674\n"
     ]
    }
   ],
   "source": [
    "# Second Code Snippet\n",
    "csv_file_path = 'data/comments_data.csv'\n",
    "with open(csv_file_path, 'r', encoding='utf-8') as csv_file:\n",
    "    csv_reader = csv.reader(csv_file)\n",
    "    \n",
    "    # Skip the header row\n",
    "    next(csv_reader)\n",
    "    \n",
    "    comments = []\n",
    "    for index, row in enumerate(csv_reader):\n",
    "        comments.append(row[0])\n",
    "\n",
    "print(len(comments))"
   ]
  },
  {
   "cell_type": "markdown",
   "metadata": {},
   "source": [
    "Splitting Comments into respective teams"
   ]
  },
  {
   "cell_type": "code",
   "execution_count": 268,
   "metadata": {},
   "outputs": [],
   "source": [
    "first_team_comments = []\n",
    "second_team_comments = []\n",
    "neutrals = []\n",
    "\n",
    "\n",
    "for comment in comments:\n",
    "    comment_split = comment.split(' ')\n",
    "    added_comment = False\n",
    "    for word in comment_split:\n",
    "        if word in first_players_filter or word is first_team:\n",
    "            first_team_comments.append(comment)\n",
    "            added_comment = True\n",
    "            break\n",
    "        elif word in second_players_filter or word is second_team:\n",
    "            second_team_comments.append(comment)\n",
    "            added_comment = True\n",
    "            break\n",
    "    \n",
    "    if added_comment:\n",
    "        added_comment = False\n",
    "    else:\n",
    "        neutrals.append(comment)\n"
   ]
  },
  {
   "cell_type": "code",
   "execution_count": 269,
   "metadata": {},
   "outputs": [
    {
     "name": "stdout",
     "output_type": "stream",
     "text": [
      "44\n",
      "49\n",
      "['huge respect Xavi staying Real Madrids celebration applauding coaches mightve binned medal walked straight dressing room high line vs Rodrygo Vinicius failed quick 20 complicated game 21 Real Madrid threatening every time went Comfortable without ball Barça uncomfortable without little threat Joao Felix little imagination got gameplan shut pressure Frenkie impossible get ball dont bite situation let Barça play ball around mostly sidelines Vini Rodrygo Bellingham ball vs Barça get shut vs Atleti reason game Thursday complicated theres one team eager shut spirits Atleti calls bench Vini Brahim typical Today man showed dont cant wait CL knockouts come around see best', 'Carvajal insane past months Back one best RBs world', 'Fede Valverde Horse never seems tire Sometimes performances overlooked hes menace', 'Thing real side almost impossible team control centre park players like valverde Bellingham tchouameni camavinga kroos modric team everything physicality experience skill stamina goals mentality assists etcetc', 'Remember Carvajal said preseason friendly Madrid would destroy Barça season everyone shat hated speaking truth Enjoyhttpswwwredditcomrsoccercomments15dkmn3danicarvajalinofficialcompetitionswewill', 'Lunin saved Madrid 10x better Kepa', 'Honestly Madrid good Barça look absolutely clueless going nowhere meet Rodrygo Vini Jude Fede good', 'Arda Güler camera look says “I could cooked there” 🤣', 'Xavi wants keep playing high line team trained play way progress ball like Man City Real Madrid team physically crazy good Vini Rodrygo incredible pace fucked Barca counter Xavi needs come something else high line wont work proper tactics seem clueless progress ball properly', 'Sorry loop crowd booing Kroos', 'God Bellingham fun watch Bro dancing midfield plays much confidence', 'Kroos cold ice', 'energy team Vini Rodrygo Bellingham Valverde really difference maker games', 'Kroos taking part celebrations', 'Lets gooo important trophy world Im glad blew Barcelona water Everyone played well hell even Nacho', 'RM 4 5 FCB 89 90 91 92 J Bellingham goal', 'Bellingham vs pedri debates continue madrid win treble bellingham scoring 40 goals', 'Madrid sleep walking second half Bellingham taking piss showboating point lol', 'Tbf team got used playing without Tibo Eder Alaba less starting line get point Vini came back long injury well', 'Araujo right back Carvajal incredible form rn lb yeah would def take lewa tho', 'Idk Frenkie didnt good game today think overall better midfielder Tchouameni even Valverde Keepers pretty equal also', 'Without even going additional rotation Valverde Tchouameni Camavinga', 'dont think Frenkie better Tchouameni Valverde based opinion game season LOL', 'Lmao Valverde contention best midfielder world based performance season people would know actually watched Reals games maybe bases view one match', 'Would love see detailed tactical analysis roles Tchouameni Valverde season looks like Tchou acts deep lying playmaker security case press gets beaten Valverde defensive midfield dirty work helps attackers connect short passes transition', 'Theres way benches Courtois hes playing amazing shame bench play Maybe share games play first choice top teams', 'told swap deal Joselu', 'Brahim got unlucky final third scored', 'Either way goal created Rodrygo still Vini finish', 'Bellingham man among boys', 'He’s good looking midfielder great highlight reel without context every he’ll something insane he’s genuinely middling player fancier Ceballos ask', 'Lunin Kepa', 'Kepa available Hes lost Lunin', 'Yes Nacho sub Carvajal normally captain would start Nacho starting injuries players He’s 4th choice CB Anyways Carvajal doesn’t dive much doesn’t complain much much better last season', 'Dominant win Barca woeful Carvajal still 100 cooked even according Madrid fanssaying anything contrary like us turning Sergi Roberto apologists win', 'Carvajal fucking amazing season', 'There’s Madrid fan who’s happy Carvajal atm', 'Either dont watch Football B another clueless Barca fan Carvajal best RB world Period Dont mention Trent defensive liability', 'Thats reasonable opportunities like dont come often could absolutely humiliated hated rival God knows owe Anyway Im saying Carlo kept Vini Rodrygo rather could subbed attacking players instead going midfielders', '6 years definitely traumatic 2 coaching years Madrid also got Mordic summer 2012 Casemiro winter 2013 team matured much mentaly along 3 years Mou recovering 6 years knocked round 16 Kroos Carvajal Ancelotti arrived following summer Exodia assembled', 'reported credible sources close couple times yes never view replace Karim major complication Karim always coachs player throughout watch day day realise Hes great football player happens play striker rather way round Plus like Özil connection Cristiano always almost psychic Plus always favourite Perez controversial club pitch model professional club never compromises quality factors always deciding ones decisions ones Gonzalo Karim People like Auba especially Lewy insistent Madrid per reports never FIFA simple swap team sheet lot factor Additionally perhaps due Premier League bias many deluded thinking Karim wasnt worldclass throughout inconsistent finisher even Balon dOr season much like Vini today neutrals overrate finishing sudden transformation output 2122 season hes still extremely profligate creates lot secondly finishing inconsistent previously uniformly poor exacerbated poor decision making best way view players variety finishing consistency capable great finishes great finishers brought lot qualities table important balance attack closest post insane Morata season sub 1617 didnt materialise think satisfied turned end', 'Rodrygo already taken Madrid edge big moments Vini already superstar', 'Bellingham pedri arent clear winners comparison One plays interior one pseudo striker times', 'Bellingham clear winner best player comparison Even though roles substantially different theyre midfielders Bellingham way better']\n",
      "['see Barca see headless chickens running around lot skill team Xavi doesn’t know extract like need play players strengths weaknesses example Xavi expected old dog like Lewandowski take bit different role play making Like get old striker play around took gamble Lewy never tikitaka player Balde struggling deliver ball box yet Ferran gets taken instead Roque gets minutes faster Lewy coming back 41 actual fuck high line Vinny faster everyone Barca defense……and goal 1 2…no change plans don’t know still employed honestly', 'Madrids injuryriddled team still mile ahead starting XI mention tactics Araujo maybeee Lewa Pedri would get near Madrid team', 'put Roberto didnt touch ball 5 times maybe dont wanna attack play suicidal highline FUCK whole whos playing RB lets change every game fuckin bullshit choose one stick Kounde needs benched need CDM cant keep going like Congrats Real Madrid well fuckin deserved', 'day understand Lewandowski left Bayern join severely struggling Barca', '2 years 4 transfer windows later team still left without identity Xavis flaws tactical approach ingame adaptation opposition starting show near end 2122 season yet winning La Liga last season due overperforming defence underperforming rivals overshadowed lot Rarely exploit weaknesses opposition quite often plays directly strengths best players Setting today Roberto inverted LW gave us 0 dribbling threat wings surprise attacking looked better Félix Lamine Fermín pitch lack directness dynamism without awful Pointing things consistent basis last year would get criticised fans clubs lacked perspective requirements coach elite club Barça also culers ignorant towards glaring flaws Xavi turned initial situation around Incompetent sporting medical teams means gap Busi left massive multiple injured players every time Getting rid Xavi monkeys paw situation given likely board appoint incompetent Rafa Marquéz replacement point lucky regressed Napoli CL still beat us heck incredibly lucky fortunate CL group yet still made hard work Things looking good Almost every team face confident getting us reiterate previous point top coach would make team top contenders', 'Lewandowski talking Real Madrids coaching staff must telling bad Xavis tactics', 'Lewandowski scored goal Xavi really like stay pitch whole game fk Roque', 'stake game know Barca fan unironically told Xavi better coach Xabi Alonso Arteta eating good tonight', 'Objectively speaking Barcelona absolutely atrocious defending lacked dynamics creativity Lack kind idea create chances little attempt pass Lewandowski basically oftentimes play outside pen area aid team creation chances like Felix nice touch try ultimately shot straight keeper like pretty much attempts apart nice Lewys goal Barcelona plays like bunch egoistic individualistic players trying super stars beyond team mate slow concept breach Reals defence Real many levels better Barcelona today outplayed big time played dynamically ideas creativity played last touch', 'asking Golden Boy given Balde lmao', 'Xavi resorted back 4 midfielders system 2 strikers top think needed injuries current abysmal form players Flood midfield get control move ball around good idea couldshould worked issues plagueing team entire season showed today scoreline represents difference class madrid team random mid table la liga team make mistake lose 1 tie game downside one one defending someone fucks like Kounde season instant break away goal dont Ter Stegen cover highline risky system first goal example mistake become quite usual season think players looked lost used adjustments improved longer match went first goal totally unneeded though threw entire plan window second goal Madrids class attack showing Barca settled bit started showing system capable pressured Madrid forced sit back occassional dangerous looking break aways Madrid stopped early time pressure resulted 21 goal Lewa hadnt done much till point striker way hell outside box feel like never want striker system neither previous 433 442 system want movement pull away defenders open space others static goes wide doesnt make run back mid stays wide play goes every time makes sense roam away goal since touch gone long time 10 months never creative force give precision passes deep score 21 Barcelona looking like might actually challenge Madrid Araujo gave away penalty reason keep hands man Vini unlikely get ball momentum breaking moment game Swung entire opposite way going lots switching roaming midfield Barcelona Frenkie getting ball way Barcas half barely saw anyone else available build Pedri Gundo much higher pitch role system Roberto available passing option Balde useless right leave completely wide open sitting middle marking Roberto Gundos credit though whenever get ball good things happened Barcelona looked dangerous Pedri Ferran got beautiful pass Lewa far position roaming get ball near midfield way slow keep Ferran nothing happened Ferran got ball bit wide threat cut ball back anyone easier shot tap happened Pedri supposed deepest attacking midfielder gave pass never gonna time person supposed cut back Lewandowski though next Pedri made effort sprint box get goal hunger isnt season atleast showing game Positionally feel like literally never right place scores balls world class Barca create lot score scoring lot dont even get started Raphinha even Ferran times though think stick system get better time get used think Lewas role needs change needs static instead roaming let striker roaming ideally Felix think best role secondshadow striker Lewa doesnt improve role change Ferran Roque also improve system lot chances created decent rate need score defensive woes think 4 midfielders brings bit stabiliy gaping hole space midfield defence defence needs make sure space BEHIND defence isnt abused much Kounde failing offside trap twice first two goals Pena afraid play outside box like NeuerTer Stegen would means high line suicidal Xavi fixes one problem space defence midfield another one open Couldshould anticipated Well know Vini Rodrygo rapid first goal literally brainfart Kounde second goal failed offside trap Kounde much individual error expected risk way chose play think moving away high line would make possesion bit harder maintain defence keeps making weekly mistakes least give chance recover instead instant one one goalkeeper Edit Barcelona fans negative right team needs flip switch right system looks good form missing right guarantee get big win change season around team lacking consistency every time look like turning things around look good injuries take away key players get one momentum changing win expect good run unless injuries derail', 'Roberto Chat GPT quote thrashing bum still captain team', 'xavi truly something Plays Roberto rw plays high line entire game subs Pedri keeps lewandowski entire game also single attempt outside box almost entire game youre least 2 goals spending entire 90 min trying break middle Dude amateur imho know front free dogshit man hes touch high level football Struggling score goal 90 minutes instructing players shoot outside box absurd hes got nowhere go useless possession Players reach box start spinning circles looking another pass instead shooting goal desperate shot outside box', 'show Ferran really deserve top billing indeed 😎', 'Frenkie de Jong fever dream player recent times seen people talking guy like actually something Must BarcaDutch pretty boy aura wierd thing like', 'old dog like Lewandowski 💀', 'Roque came Brazil young injured Expecting make difference immediately bit much eased', 'Maybe completely misjudge player material surely much competetive squad tell Gündo FdJ Pedri midfield years CL winnwr Id believe', 'Ter Stegen title imo', 'Theyre different type midfielders makes sense compare need three kinds midfielders team said De Jong still wouldnt make Madrids midfield simply due presence Kroos Modric Bellingham', 'think wild rate 2024 Modric 2024 De Jong', 'Modric Modric Whenever played still oozes quality even cant play every week least thats saw CL time went sub 12 loss also still pretty fucking awesome match Atletico yeah especially big games Ill pick Modric time since hes sure thing mention De Jong pretty mid match pretty much entire midfield really', 'fair Madrid phenomenal Barça low point since crisis hand Madrid 2005 2009 ass started turn world menace became CR Benzema Alonso arrived summer 2009', 'form la Liga carried gross defensive overperformance Ter Stegen god mode failed opposing strikers would manage miss open goal also rival us Atleti didnt even bother show la Liga', 'personnel downgraded every position Last season Barca already started looking bad injuries Pedri Dembele able grind wins defence included Busquets performing Ter Stegen time they’ve lost Dembele Gavi Busquets Ter Stegen although replacements still decent don’t play way Xavi’s attacking tactics usually involved winger beating man wide that’s Dembele integral Without they’ve kind reliant Cancelo wasn’t fit today without Busquets Ter Stegen Kounde wanting play RB defence also seems complete disarray situation injuries Xavi’s inexperience becoming really noticeable Barca still decent options seems like Xavi doesn’t know fit together cohesive unit also seems like might starting lost dressing room bit comments made players individual errors pitch It’s really fault think experienced coach would handle better current situation', 'much Xavis fault Hes partially blame yes team doesnt finish chances believe Barcelona number 1 team chances missed Last season also carried amazing defense Lewandowski garbagefor half season atleast luck', 'Yeah Idk would want bum scored 50 goals 46 games prior season already stacked top goal scoring machines Depay Aubameyang Braithwaite Luuk de Jong', 'much paper people don’t like admit Dembele made big difference showed Clasicos Busquets albeit aging one still replacement sight anytime soon Araujo Kounde Christensen apparently forgotten play professional football Balde don’t get started Balde It’s like swapped real Balde goddamn cousin', 'Nobody knows havent seen team press well without Gavi ever even much better form tactical suicide', 'without Gavi team nobody knows press', 'Rather bring Guiu', 'Roque saviour', 'Márquez Deco keep pocketing money like Raphinha', 'Hola ¿eres de Honduras', 'Hes young hotheaded dont think hes got Gavi gene spur moment frustration', 'Pedri Gavi better', 'honestly never understood appeal know Dutch players highly appreciated Barca Cruyff legacy De Jong Barca DNA whatever honestly Pedri IMHO meh especially terms consistency thing Barca theyre nostalgic golden era overhype small players Xavi Iniesta vibes assume similar players recreate era bad transfer windows dont know value players paid 70M Raphina 50M Torres like LOL last successful signing literally Suarez 9 years ago Right really believe squad compete Xavis fault yeah Xavi amateur best man squad way average Pedri played like 50ish games last 2 seasons COMBINED consider best player best player cant play 30 season cant finish classico bruh moment really need reassess squad understand really dont quality players like think Xavi isnt one coaches players evolve needs baseline quality work far hes average squad', 'need actual dm de aging machine gundogan everyone fit firing barcas midfield quality wont include husk sergi Roberto lol', 'want go route youll need add Mats Araujo Balde Frenkie Gavi Yamal unsellable', 'Fermín channeled inner Gavi much else apart', 'looks like Balde told can’t dribble forward space bizarre would take 1 2 touches look afraid pass back sideways tons time', 'Busquets always going difficult replace nearly impossible Think Zubimendi would’ve decent financial situation better can’t believe actually got Golden Boy shouts Jude like Balde great potential lots improve Jude another planet compared youngsters', 'think passing wasnt fluid would expect GundoFdJPedriRoberto midfield started Pedri waaay high isolated made adjustments though came bit closer halfway line Gundo filled space Pedri left behind attack looked fluid gave Pedri Gundo time space use creativity fullest think lack effort worrying though apparent season rest regarding Lewandowski Laporta agree lot think Xavi inexperienced coach also think showing promising signs last season lot proactive changes system bringing influence team dont think bad coach though dont think shown world class coaching either flashes brilliance see potential', 'Usted será despedido por la mañana Hora de aprender polaco señor Javier', 'Mi papa es de Honduras', 'think means physicality midfield runners bullied ball today sorely missing Gavi brought physicality midfield', 'Forgot reply sell sorry personally think Araujo going bad patch right like became Umtiti sudden right Pls young talented one better performers usually Selling would mistake opinion replacement able serve club long level might still improve even future sell invest money heavily DM Thats impactful purchase make right would arguably even need replace Araujo similar quality player get back ups Inigo Christensen quality Kounde also play though prone making one brainfart game Alonso back Get another back player Araujos quality unlikely cheap even available rest team offloading Lewa Saudi club lot money would massively helpful financially pave way minutes regular appearances Roque bit risky though Lewa form actively feels like harming system times scores goals badly needed right', 'ridiculous every damn year lewandowskis agent stirring Real Madrid rumors bayern looked player 15 years younger Lewandowski acted like diva like first time acting like', 'basically nonexistent attack raphinha ok times mostly shit Lewandowski can’t finish ball save life shit buildup play don’t anyone actual leftwinger play felix isn’t left winger leave summer']\n"
     ]
    }
   ],
   "source": [
    "print(len(first_team_comments))\n",
    "print(len(second_team_comments))\n",
    "print(first_team_comments)\n",
    "print(second_team_comments)"
   ]
  },
  {
   "cell_type": "code",
   "execution_count": 270,
   "metadata": {},
   "outputs": [],
   "source": [
    "roberta = \"cardiffnlp/twitter-roberta-base-sentiment\"\n",
    "\n",
    "model = AutoModelForSequenceClassification.from_pretrained(roberta)\n",
    "tokenizer = AutoTokenizer.from_pretrained(roberta)\n",
    "\n",
    "labels = ['Negative', 'Neutral', 'Positive']\n"
   ]
  },
  {
   "cell_type": "code",
   "execution_count": 271,
   "metadata": {},
   "outputs": [],
   "source": [
    "# Sentiment analysis using threading\n",
    "#from multiprocessing.pool import ThreadPool\n",
    "#from functools import partial\n",
    "\n",
    "\n",
    "#analyze_sentiment_partial = partial(analyze_sentiment, model=model, tokenizer=tokenizer)\n",
    "\n",
    "\n",
    "#pool = ThreadPool()\n",
    "#sentiments = pool.map(analyze_sentiment_partial, comments)\n",
    "\n",
    "#pool.close()\n",
    "#pool.join()"
   ]
  },
  {
   "cell_type": "code",
   "execution_count": 272,
   "metadata": {},
   "outputs": [],
   "source": [
    "from multiprocessing.pool import ThreadPool\n",
    "from functools import partial\n",
    "\n",
    "analyze_sentiment_partial = partial(analyze_sentiment, model=model, tokenizer=tokenizer)\n",
    "\n",
    "\n",
    "pool = ThreadPool()\n",
    "first_team_sentiment = pool.map(analyze_sentiment_partial, first_team_comments)\n",
    "\n",
    "pool.close()\n",
    "pool.join()"
   ]
  },
  {
   "cell_type": "code",
   "execution_count": 273,
   "metadata": {},
   "outputs": [],
   "source": [
    "pool = ThreadPool()\n",
    "second_team_sentiment = pool.map(analyze_sentiment_partial, second_team_comments)\n",
    "\n",
    "pool.close()\n",
    "pool.join()"
   ]
  },
  {
   "cell_type": "code",
   "execution_count": 274,
   "metadata": {},
   "outputs": [],
   "source": [
    "#positive_length = sentiments.count('Positive')\n",
    "#negative_length = sentiments.count('Negative')\n",
    "#neutral_length = sentiments.count('Neutral')\n",
    "\n",
    "#print(positive_length, negative_length, neutral_length)\n",
    "\n",
    "#categories = ['Positive', 'Negative', 'Neutral']\n",
    "#lengths = [positive_length, negative_length, neutral_length]"
   ]
  },
  {
   "cell_type": "code",
   "execution_count": 275,
   "metadata": {},
   "outputs": [
    {
     "name": "stdout",
     "output_type": "stream",
     "text": [
      "13 4 27\n"
     ]
    }
   ],
   "source": [
    "# FOR A SPECIFIC TEAM\n",
    "first_positive_length = first_team_sentiment.count('Positive')\n",
    "first_negative_length = first_team_sentiment.count('Negative')\n",
    "first_neutral_length = first_team_sentiment.count('Neutral')\n",
    "\n",
    "print(first_positive_length, first_negative_length, first_neutral_length)\n",
    "\n",
    "categories = ['Positive', 'Negative']\n",
    "first_lengths = [first_positive_length, first_negative_length]"
   ]
  },
  {
   "cell_type": "code",
   "execution_count": 276,
   "metadata": {},
   "outputs": [
    {
     "name": "stdout",
     "output_type": "stream",
     "text": [
      "4 14 31\n"
     ]
    }
   ],
   "source": [
    "# FOR A SPECIFIC TEAM\n",
    "second_positive_length = second_team_sentiment.count('Positive')\n",
    "second_negative_length = second_team_sentiment.count('Negative')\n",
    "second_neutral_length = second_team_sentiment.count('Neutral')\n",
    "\n",
    "print(second_positive_length, second_negative_length, second_neutral_length)\n",
    "\n",
    "categories = ['Positive', 'Negative']\n",
    "second_lengths = [second_positive_length, second_negative_length]"
   ]
  },
  {
   "cell_type": "code",
   "execution_count": 277,
   "metadata": {},
   "outputs": [],
   "source": [
    "#plt.bar(categories, lengths, color=['green', 'red'])\n",
    "#plt.xlabel('Sentiment')\n",
    "#plt.ylabel('Length')\n",
    "#plt.title('Length of Lists by Sentiment')\n",
    "#plt.show()"
   ]
  },
  {
   "cell_type": "code",
   "execution_count": 278,
   "metadata": {},
   "outputs": [
    {
     "data": {
      "image/png": "[encoded data removed]",
      "text/plain": [
       "<Figure size 640x480 with 1 Axes>"
      ]
     },
     "metadata": {},
     "output_type": "display_data"
    }
   ],
   "source": [
    "#FOR A SPECIFIC TEAM\n",
    "plt.bar(categories, first_lengths, color=['green', 'red'])\n",
    "plt.xlabel('Sentiment')\n",
    "plt.yticks([])\n",
    "plt.title(first_team + \"  Post-match Sentiment\")\n",
    "plt.show()"
   ]
  },
  {
   "cell_type": "code",
   "execution_count": 279,
   "metadata": {},
   "outputs": [
    {
     "data": {
      "image/png": "[encoded data removed]",
      "text/plain": [
       "<Figure size 640x480 with 1 Axes>"
      ]
     },
     "metadata": {},
     "output_type": "display_data"
    }
   ],
   "source": [
    "#FOR A SPECIFIC TEAM\n",
    "plt.bar(categories, second_lengths, color=['green', 'red', 'gray'])\n",
    "plt.xlabel('Sentiment')\n",
    "plt.yticks([])\n",
    "plt.title(second_team + \"  Post-match Sentiment\")\n",
    "plt.show()"
   ]
  }
 ],
 "metadata": {
  "kernelspec": {
   "display_name": "base",
   "language": "python",
   "name": "python3"
  },
  "language_info": {
   "codemirror_mode": {
    "name": "ipython",
    "version": 3
   },
   "file_extension": ".py",
   "mimetype": "text/x-python",
   "name": "python",
   "nbconvert_exporter": "python",
   "pygments_lexer": "ipython3",
   "version": "3.11.5"
  }
 },
 "nbformat": 4,
 "nbformat_minor": 2
}
